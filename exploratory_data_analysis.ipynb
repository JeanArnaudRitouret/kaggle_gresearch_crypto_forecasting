{
 "cells": [
  {
   "cell_type": "code",
   "execution_count": 2,
   "id": "b7fb7509",
   "metadata": {},
   "outputs": [],
   "source": [
    "import pandas as pd\n",
    "import numpy as np\n",
    "import matplotlib.pyplot as plt\n",
    "import seaborn as sns"
   ]
  },
  {
   "cell_type": "code",
   "execution_count": 3,
   "id": "99d735f9",
   "metadata": {
    "scrolled": true
   },
   "outputs": [
    {
     "data": {
      "text/html": [
       "<div>\n",
       "<style scoped>\n",
       "    .dataframe tbody tr th:only-of-type {\n",
       "        vertical-align: middle;\n",
       "    }\n",
       "\n",
       "    .dataframe tbody tr th {\n",
       "        vertical-align: top;\n",
       "    }\n",
       "\n",
       "    .dataframe thead th {\n",
       "        text-align: right;\n",
       "    }\n",
       "</style>\n",
       "<table border=\"1\" class=\"dataframe\">\n",
       "  <thead>\n",
       "    <tr style=\"text-align: right;\">\n",
       "      <th></th>\n",
       "      <th>timestamp</th>\n",
       "      <th>Asset_ID</th>\n",
       "      <th>Count</th>\n",
       "      <th>Open</th>\n",
       "      <th>High</th>\n",
       "      <th>Low</th>\n",
       "      <th>Close</th>\n",
       "      <th>Volume</th>\n",
       "      <th>VWAP</th>\n",
       "      <th>Target</th>\n",
       "    </tr>\n",
       "  </thead>\n",
       "  <tbody>\n",
       "    <tr>\n",
       "      <th>0</th>\n",
       "      <td>1514764860</td>\n",
       "      <td>2</td>\n",
       "      <td>40.0</td>\n",
       "      <td>2376.5800</td>\n",
       "      <td>2399.5000</td>\n",
       "      <td>2357.1400</td>\n",
       "      <td>2374.5900</td>\n",
       "      <td>19.233005</td>\n",
       "      <td>2373.116392</td>\n",
       "      <td>-0.004218</td>\n",
       "    </tr>\n",
       "    <tr>\n",
       "      <th>1</th>\n",
       "      <td>1514764860</td>\n",
       "      <td>0</td>\n",
       "      <td>5.0</td>\n",
       "      <td>8.5300</td>\n",
       "      <td>8.5300</td>\n",
       "      <td>8.5300</td>\n",
       "      <td>8.5300</td>\n",
       "      <td>78.380000</td>\n",
       "      <td>8.530000</td>\n",
       "      <td>-0.014399</td>\n",
       "    </tr>\n",
       "    <tr>\n",
       "      <th>2</th>\n",
       "      <td>1514764860</td>\n",
       "      <td>1</td>\n",
       "      <td>229.0</td>\n",
       "      <td>13835.1940</td>\n",
       "      <td>14013.8000</td>\n",
       "      <td>13666.1100</td>\n",
       "      <td>13850.1760</td>\n",
       "      <td>31.550062</td>\n",
       "      <td>13827.062093</td>\n",
       "      <td>-0.014643</td>\n",
       "    </tr>\n",
       "    <tr>\n",
       "      <th>3</th>\n",
       "      <td>1514764860</td>\n",
       "      <td>5</td>\n",
       "      <td>32.0</td>\n",
       "      <td>7.6596</td>\n",
       "      <td>7.6596</td>\n",
       "      <td>7.6567</td>\n",
       "      <td>7.6576</td>\n",
       "      <td>6626.713370</td>\n",
       "      <td>7.657713</td>\n",
       "      <td>-0.013922</td>\n",
       "    </tr>\n",
       "    <tr>\n",
       "      <th>4</th>\n",
       "      <td>1514764860</td>\n",
       "      <td>7</td>\n",
       "      <td>5.0</td>\n",
       "      <td>25.9200</td>\n",
       "      <td>25.9200</td>\n",
       "      <td>25.8740</td>\n",
       "      <td>25.8770</td>\n",
       "      <td>121.087310</td>\n",
       "      <td>25.891363</td>\n",
       "      <td>-0.008264</td>\n",
       "    </tr>\n",
       "  </tbody>\n",
       "</table>\n",
       "</div>"
      ],
      "text/plain": [
       "    timestamp  Asset_ID  Count        Open        High         Low  \\\n",
       "0  1514764860         2   40.0   2376.5800   2399.5000   2357.1400   \n",
       "1  1514764860         0    5.0      8.5300      8.5300      8.5300   \n",
       "2  1514764860         1  229.0  13835.1940  14013.8000  13666.1100   \n",
       "3  1514764860         5   32.0      7.6596      7.6596      7.6567   \n",
       "4  1514764860         7    5.0     25.9200     25.9200     25.8740   \n",
       "\n",
       "        Close       Volume          VWAP    Target  \n",
       "0   2374.5900    19.233005   2373.116392 -0.004218  \n",
       "1      8.5300    78.380000      8.530000 -0.014399  \n",
       "2  13850.1760    31.550062  13827.062093 -0.014643  \n",
       "3      7.6576  6626.713370      7.657713 -0.013922  \n",
       "4     25.8770   121.087310     25.891363 -0.008264  "
      ]
     },
     "execution_count": 3,
     "metadata": {},
     "output_type": "execute_result"
    }
   ],
   "source": [
    "train = pd.read_csv('data/train.csv')\n",
    "train.head()"
   ]
  },
  {
   "cell_type": "code",
   "execution_count": 4,
   "id": "22dc136f",
   "metadata": {
    "scrolled": true
   },
   "outputs": [
    {
     "data": {
      "text/plain": [
       "timestamp         0\n",
       "Asset_ID          0\n",
       "Count             0\n",
       "Open              0\n",
       "High              0\n",
       "Low               0\n",
       "Close             0\n",
       "Volume            0\n",
       "VWAP              9\n",
       "Target       750338\n",
       "dtype: int64"
      ]
     },
     "execution_count": 4,
     "metadata": {},
     "output_type": "execute_result"
    }
   ],
   "source": [
    "train.isnull().sum()"
   ]
  },
  {
   "cell_type": "code",
   "execution_count": null,
   "id": "dc6921b7",
   "metadata": {},
   "outputs": [],
   "source": [
    "train.timestamp"
   ]
  },
  {
   "cell_type": "code",
   "execution_count": 30,
   "id": "dc41c613",
   "metadata": {},
   "outputs": [
    {
     "data": {
      "text/html": [
       "<div>\n",
       "<style scoped>\n",
       "    .dataframe tbody tr th:only-of-type {\n",
       "        vertical-align: middle;\n",
       "    }\n",
       "\n",
       "    .dataframe tbody tr th {\n",
       "        vertical-align: top;\n",
       "    }\n",
       "\n",
       "    .dataframe thead th {\n",
       "        text-align: right;\n",
       "    }\n",
       "</style>\n",
       "<table border=\"1\" class=\"dataframe\">\n",
       "  <thead>\n",
       "    <tr style=\"text-align: right;\">\n",
       "      <th></th>\n",
       "      <th>Asset_ID</th>\n",
       "      <th>Weight</th>\n",
       "      <th>Asset_Name</th>\n",
       "    </tr>\n",
       "  </thead>\n",
       "  <tbody>\n",
       "    <tr>\n",
       "      <th>0</th>\n",
       "      <td>2</td>\n",
       "      <td>2.397895</td>\n",
       "      <td>Bitcoin Cash</td>\n",
       "    </tr>\n",
       "    <tr>\n",
       "      <th>1</th>\n",
       "      <td>0</td>\n",
       "      <td>4.304065</td>\n",
       "      <td>Binance Coin</td>\n",
       "    </tr>\n",
       "    <tr>\n",
       "      <th>2</th>\n",
       "      <td>1</td>\n",
       "      <td>6.779922</td>\n",
       "      <td>Bitcoin</td>\n",
       "    </tr>\n",
       "    <tr>\n",
       "      <th>3</th>\n",
       "      <td>5</td>\n",
       "      <td>1.386294</td>\n",
       "      <td>EOS.IO</td>\n",
       "    </tr>\n",
       "    <tr>\n",
       "      <th>4</th>\n",
       "      <td>7</td>\n",
       "      <td>2.079442</td>\n",
       "      <td>Ethereum Classic</td>\n",
       "    </tr>\n",
       "  </tbody>\n",
       "</table>\n",
       "</div>"
      ],
      "text/plain": [
       "   Asset_ID    Weight        Asset_Name\n",
       "0         2  2.397895      Bitcoin Cash\n",
       "1         0  4.304065      Binance Coin\n",
       "2         1  6.779922           Bitcoin\n",
       "3         5  1.386294            EOS.IO\n",
       "4         7  2.079442  Ethereum Classic"
      ]
     },
     "execution_count": 30,
     "metadata": {},
     "output_type": "execute_result"
    }
   ],
   "source": [
    "asset_details = pd.read_csv('data/asset_details.csv')\n",
    "asset_details.head()"
   ]
  },
  {
   "cell_type": "code",
   "execution_count": null,
   "id": "6f3cfeb4",
   "metadata": {},
   "outputs": [],
   "source": []
  }
 ],
 "metadata": {
  "kernelspec": {
   "display_name": "Python 3 (ipykernel)",
   "language": "python",
   "name": "python3"
  },
  "language_info": {
   "codemirror_mode": {
    "name": "ipython",
    "version": 3
   },
   "file_extension": ".py",
   "mimetype": "text/x-python",
   "name": "python",
   "nbconvert_exporter": "python",
   "pygments_lexer": "ipython3",
   "version": "3.9.9"
  }
 },
 "nbformat": 4,
 "nbformat_minor": 5
}
