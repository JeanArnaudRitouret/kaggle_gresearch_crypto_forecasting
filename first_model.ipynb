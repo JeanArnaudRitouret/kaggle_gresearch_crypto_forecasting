{
 "cells": [
  {
   "cell_type": "code",
   "execution_count": 50,
   "id": "d9910e11",
   "metadata": {},
   "outputs": [],
   "source": [
    "import pandas as pd\n",
    "import numpy as np\n",
    "import pickle\n",
    "from sklearn.linear_model import LinearRegression\n",
    "from sklearn.model_selection import cross_validate\n",
    "from sklearn.metrics import r2_score\n",
    "import seaborn as sns\n",
    "from statsmodels.tsa.seasonal import seasonal_decompose\n",
    "from statsmodels.tsa.stattools import adfuller"
   ]
  },
  {
   "cell_type": "code",
   "execution_count": 31,
   "id": "1f0d4d20",
   "metadata": {},
   "outputs": [],
   "source": [
    "X = pickle.load(open('X_scaled.p', 'rb'))\n",
    "y = pickle.load(open('y.p', 'rb'))"
   ]
  },
  {
   "cell_type": "code",
   "execution_count": 32,
   "id": "c9ef9dc8",
   "metadata": {},
   "outputs": [],
   "source": [
    "train_size = 0.6\n",
    "loc_test = int(X.shape[0]*train_size)\n",
    "X_train, X_test = X.iloc[:loc_test], X.iloc[loc_test:]\n",
    "y_train, y_test = y.iloc[:loc_test], y.iloc[loc_test:]"
   ]
  },
  {
   "cell_type": "code",
   "execution_count": 33,
   "id": "bf2f77d0",
   "metadata": {},
   "outputs": [
    {
     "data": {
      "text/html": [
       "<div>\n",
       "<style scoped>\n",
       "    .dataframe tbody tr th:only-of-type {\n",
       "        vertical-align: middle;\n",
       "    }\n",
       "\n",
       "    .dataframe tbody tr th {\n",
       "        vertical-align: top;\n",
       "    }\n",
       "\n",
       "    .dataframe thead th {\n",
       "        text-align: right;\n",
       "    }\n",
       "</style>\n",
       "<table border=\"1\" class=\"dataframe\">\n",
       "  <thead>\n",
       "    <tr style=\"text-align: right;\">\n",
       "      <th></th>\n",
       "      <th>log_returns_t_minus_1</th>\n",
       "      <th>log_volumes_t_minus_1</th>\n",
       "      <th>log_counts_t_minus_1</th>\n",
       "      <th>log_returns_t_minus_10</th>\n",
       "      <th>log_volumes_t_minus_10</th>\n",
       "      <th>log_counts_t_minus_10</th>\n",
       "      <th>log_returns_t_minus_100</th>\n",
       "      <th>log_volumes_t_minus_100</th>\n",
       "      <th>log_counts_t_minus_100</th>\n",
       "    </tr>\n",
       "    <tr>\n",
       "      <th>timestamp</th>\n",
       "      <th></th>\n",
       "      <th></th>\n",
       "      <th></th>\n",
       "      <th></th>\n",
       "      <th></th>\n",
       "      <th></th>\n",
       "      <th></th>\n",
       "      <th></th>\n",
       "      <th></th>\n",
       "    </tr>\n",
       "  </thead>\n",
       "  <tbody>\n",
       "    <tr>\n",
       "      <th>2018-01-01 00:01:00</th>\n",
       "      <td>-0.001062</td>\n",
       "      <td>-9.741894e-07</td>\n",
       "      <td>-0.000003</td>\n",
       "      <td>-0.003509</td>\n",
       "      <td>-0.000004</td>\n",
       "      <td>-0.000019</td>\n",
       "      <td>-0.011799</td>\n",
       "      <td>-0.00004</td>\n",
       "      <td>-0.000177</td>\n",
       "    </tr>\n",
       "    <tr>\n",
       "      <th>2018-01-01 00:02:00</th>\n",
       "      <td>-1.007810</td>\n",
       "      <td>-6.992360e-02</td>\n",
       "      <td>0.457159</td>\n",
       "      <td>-0.003509</td>\n",
       "      <td>-0.000004</td>\n",
       "      <td>-0.000019</td>\n",
       "      <td>-0.011799</td>\n",
       "      <td>-0.00004</td>\n",
       "      <td>-0.000177</td>\n",
       "    </tr>\n",
       "    <tr>\n",
       "      <th>2018-01-01 00:03:00</th>\n",
       "      <td>-1.935252</td>\n",
       "      <td>2.302382e+00</td>\n",
       "      <td>2.528186</td>\n",
       "      <td>-0.003509</td>\n",
       "      <td>-0.000004</td>\n",
       "      <td>-0.000019</td>\n",
       "      <td>-0.011799</td>\n",
       "      <td>-0.00004</td>\n",
       "      <td>-0.000177</td>\n",
       "    </tr>\n",
       "    <tr>\n",
       "      <th>2018-01-01 00:04:00</th>\n",
       "      <td>1.048278</td>\n",
       "      <td>-1.878305e+00</td>\n",
       "      <td>-1.586419</td>\n",
       "      <td>-0.003509</td>\n",
       "      <td>-0.000004</td>\n",
       "      <td>-0.000019</td>\n",
       "      <td>-0.011799</td>\n",
       "      <td>-0.00004</td>\n",
       "      <td>-0.000177</td>\n",
       "    </tr>\n",
       "    <tr>\n",
       "      <th>2018-01-01 00:05:00</th>\n",
       "      <td>-2.932456</td>\n",
       "      <td>-4.716536e-03</td>\n",
       "      <td>-1.398939</td>\n",
       "      <td>-0.003509</td>\n",
       "      <td>-0.000004</td>\n",
       "      <td>-0.000019</td>\n",
       "      <td>-0.011799</td>\n",
       "      <td>-0.00004</td>\n",
       "      <td>-0.000177</td>\n",
       "    </tr>\n",
       "  </tbody>\n",
       "</table>\n",
       "</div>"
      ],
      "text/plain": [
       "                     log_returns_t_minus_1  log_volumes_t_minus_1  \\\n",
       "timestamp                                                           \n",
       "2018-01-01 00:01:00              -0.001062          -9.741894e-07   \n",
       "2018-01-01 00:02:00              -1.007810          -6.992360e-02   \n",
       "2018-01-01 00:03:00              -1.935252           2.302382e+00   \n",
       "2018-01-01 00:04:00               1.048278          -1.878305e+00   \n",
       "2018-01-01 00:05:00              -2.932456          -4.716536e-03   \n",
       "\n",
       "                     log_counts_t_minus_1  log_returns_t_minus_10  \\\n",
       "timestamp                                                           \n",
       "2018-01-01 00:01:00             -0.000003               -0.003509   \n",
       "2018-01-01 00:02:00              0.457159               -0.003509   \n",
       "2018-01-01 00:03:00              2.528186               -0.003509   \n",
       "2018-01-01 00:04:00             -1.586419               -0.003509   \n",
       "2018-01-01 00:05:00             -1.398939               -0.003509   \n",
       "\n",
       "                     log_volumes_t_minus_10  log_counts_t_minus_10  \\\n",
       "timestamp                                                            \n",
       "2018-01-01 00:01:00               -0.000004              -0.000019   \n",
       "2018-01-01 00:02:00               -0.000004              -0.000019   \n",
       "2018-01-01 00:03:00               -0.000004              -0.000019   \n",
       "2018-01-01 00:04:00               -0.000004              -0.000019   \n",
       "2018-01-01 00:05:00               -0.000004              -0.000019   \n",
       "\n",
       "                     log_returns_t_minus_100  log_volumes_t_minus_100  \\\n",
       "timestamp                                                               \n",
       "2018-01-01 00:01:00                -0.011799                 -0.00004   \n",
       "2018-01-01 00:02:00                -0.011799                 -0.00004   \n",
       "2018-01-01 00:03:00                -0.011799                 -0.00004   \n",
       "2018-01-01 00:04:00                -0.011799                 -0.00004   \n",
       "2018-01-01 00:05:00                -0.011799                 -0.00004   \n",
       "\n",
       "                     log_counts_t_minus_100  \n",
       "timestamp                                    \n",
       "2018-01-01 00:01:00               -0.000177  \n",
       "2018-01-01 00:02:00               -0.000177  \n",
       "2018-01-01 00:03:00               -0.000177  \n",
       "2018-01-01 00:04:00               -0.000177  \n",
       "2018-01-01 00:05:00               -0.000177  "
      ]
     },
     "execution_count": 33,
     "metadata": {},
     "output_type": "execute_result"
    }
   ],
   "source": [
    "X_train.head()"
   ]
  },
  {
   "cell_type": "code",
   "execution_count": 34,
   "id": "3c572311",
   "metadata": {},
   "outputs": [],
   "source": [
    "# baseline model : linear regression"
   ]
  },
  {
   "cell_type": "code",
   "execution_count": 35,
   "id": "13c5527a",
   "metadata": {},
   "outputs": [
    {
     "data": {
      "text/plain": [
       "LinearRegression()"
      ]
     },
     "execution_count": 35,
     "metadata": {},
     "output_type": "execute_result"
    }
   ],
   "source": [
    "model = LinearRegression()\n",
    "model.fit(X_train, y_train)"
   ]
  },
  {
   "cell_type": "code",
   "execution_count": 36,
   "id": "bcb3883f",
   "metadata": {},
   "outputs": [
    {
     "data": {
      "text/plain": [
       "-0.00241010120266294"
      ]
     },
     "execution_count": 36,
     "metadata": {},
     "output_type": "execute_result"
    }
   ],
   "source": [
    "y_predict = model.predict(X_test)\n",
    "r2_baseline = r2_score(y_test, y_predict)\n",
    "r2_baseline"
   ]
  },
  {
   "cell_type": "code",
   "execution_count": 37,
   "id": "0da4cc13",
   "metadata": {},
   "outputs": [
    {
     "data": {
      "text/plain": [
       "<AxesSubplot:xlabel='timestamp', ylabel='Target'>"
      ]
     },
     "execution_count": 37,
     "metadata": {},
     "output_type": "execute_result"
    },
    {
     "data": {
      "image/png": "[encoded data removed]",
      "text/plain": [
       "<Figure size 432x288 with 1 Axes>"
      ]
     },
     "metadata": {
      "needs_background": "light"
     },
     "output_type": "display_data"
    }
   ],
   "source": [
    "sns.scatterplot(x=y_test.iloc[:1000].index, y=y_test.iloc[:1000])\n",
    "sns.scatterplot(x=y_test.iloc[:1000].index, y=y_predict[:1000])"
   ]
  },
  {
   "cell_type": "code",
   "execution_count": 51,
   "id": "dafae462",
   "metadata": {},
   "outputs": [],
   "source": [
    "# Test adfuller"
   ]
  },
  {
   "cell_type": "code",
   "execution_count": null,
   "id": "5f9a9ddf",
   "metadata": {},
   "outputs": [],
   "source": [
    "adfuller(X_train.log_returns_t_minus_1)[1]  # p-value close to 0 indicates stationarity"
   ]
  },
  {
   "cell_type": "code",
   "execution_count": null,
   "id": "7f41e438",
   "metadata": {},
   "outputs": [],
   "source": []
  }
 ],
 "metadata": {
  "kernelspec": {
   "display_name": "Python 3 (ipykernel)",
   "language": "python",
   "name": "python3"
  },
  "language_info": {
   "codemirror_mode": {
    "name": "ipython",
    "version": 3
   },
   "file_extension": ".py",
   "mimetype": "text/x-python",
   "name": "python",
   "nbconvert_exporter": "python",
   "pygments_lexer": "ipython3",
   "version": "3.9.9"
  }
 },
 "nbformat": 4,
 "nbformat_minor": 5
}
