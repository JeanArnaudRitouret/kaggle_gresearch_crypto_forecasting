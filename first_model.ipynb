{
 "cells": [
  {
   "cell_type": "code",
   "execution_count": 89,
   "id": "d9910e11",
   "metadata": {},
   "outputs": [],
   "source": [
    "import pandas as pd\n",
    "import numpy as np\n",
    "import pickle\n",
    "from sklearn.linear_model import LinearRegression\n",
    "from sklearn.model_selection import cross_validate\n",
    "from sklearn.metrics import r2_score\n",
    "import seaborn as sns"
   ]
  },
  {
   "cell_type": "code",
   "execution_count": 90,
   "id": "1f0d4d20",
   "metadata": {},
   "outputs": [],
   "source": [
    "X = pickle.load(open('X_scaled.p', 'rb'))\n",
    "y = pickle.load(open('y.p', 'rb'))"
   ]
  },
  {
   "cell_type": "code",
   "execution_count": 91,
   "id": "c9ef9dc8",
   "metadata": {},
   "outputs": [],
   "source": [
    "train_size = 0.6\n",
    "loc_test = int(X.shape[0]*train_size)\n",
    "X_train, X_test = X.iloc[:loc_test], X.iloc[loc_test:]\n",
    "y_train, y_test = y.iloc[:loc_test], y.iloc[loc_test:]"
   ]
  },
  {
   "cell_type": "code",
   "execution_count": 92,
   "id": "196aaa7e",
   "metadata": {},
   "outputs": [
    {
     "data": {
      "text/html": [
       "<div>\n",
       "<style scoped>\n",
       "    .dataframe tbody tr th:only-of-type {\n",
       "        vertical-align: middle;\n",
       "    }\n",
       "\n",
       "    .dataframe tbody tr th {\n",
       "        vertical-align: top;\n",
       "    }\n",
       "\n",
       "    .dataframe thead th {\n",
       "        text-align: right;\n",
       "    }\n",
       "</style>\n",
       "<table border=\"1\" class=\"dataframe\">\n",
       "  <thead>\n",
       "    <tr style=\"text-align: right;\">\n",
       "      <th></th>\n",
       "      <th>log_returns_t_minus_1</th>\n",
       "      <th>log_volumes_t_minus_1</th>\n",
       "      <th>log_counts_t_minus_1</th>\n",
       "      <th>log_returns_t_minus_10</th>\n",
       "      <th>log_volumes_t_minus_10</th>\n",
       "      <th>log_counts_t_minus_10</th>\n",
       "      <th>log_returns_t_minus_100</th>\n",
       "      <th>log_volumes_t_minus_100</th>\n",
       "      <th>log_counts_t_minus_100</th>\n",
       "      <th>_Spread</th>\n",
       "      <th>_Max_spread</th>\n",
       "    </tr>\n",
       "    <tr>\n",
       "      <th>timestamp</th>\n",
       "      <th></th>\n",
       "      <th></th>\n",
       "      <th></th>\n",
       "      <th></th>\n",
       "      <th></th>\n",
       "      <th></th>\n",
       "      <th></th>\n",
       "      <th></th>\n",
       "      <th></th>\n",
       "      <th></th>\n",
       "      <th></th>\n",
       "    </tr>\n",
       "  </thead>\n",
       "  <tbody>\n",
       "    <tr>\n",
       "      <th>1514764860</th>\n",
       "      <td>-0.001062</td>\n",
       "      <td>-9.741894e-07</td>\n",
       "      <td>-0.000003</td>\n",
       "      <td>-0.003509</td>\n",
       "      <td>-0.000004</td>\n",
       "      <td>-0.000019</td>\n",
       "      <td>-0.011799</td>\n",
       "      <td>-0.00004</td>\n",
       "      <td>-0.000177</td>\n",
       "      <td>-0.000519</td>\n",
       "      <td>-0.333829</td>\n",
       "    </tr>\n",
       "    <tr>\n",
       "      <th>1514764920</th>\n",
       "      <td>-1.007810</td>\n",
       "      <td>-6.992360e-02</td>\n",
       "      <td>0.457159</td>\n",
       "      <td>-0.003509</td>\n",
       "      <td>-0.000004</td>\n",
       "      <td>-0.000019</td>\n",
       "      <td>-0.011799</td>\n",
       "      <td>-0.00004</td>\n",
       "      <td>-0.000177</td>\n",
       "      <td>0.050954</td>\n",
       "      <td>-0.308071</td>\n",
       "    </tr>\n",
       "    <tr>\n",
       "      <th>1514764980</th>\n",
       "      <td>-1.935252</td>\n",
       "      <td>2.302382e+00</td>\n",
       "      <td>2.528186</td>\n",
       "      <td>-0.003509</td>\n",
       "      <td>-0.000004</td>\n",
       "      <td>-0.000019</td>\n",
       "      <td>-0.011799</td>\n",
       "      <td>-0.00004</td>\n",
       "      <td>-0.000177</td>\n",
       "      <td>0.071543</td>\n",
       "      <td>-0.258881</td>\n",
       "    </tr>\n",
       "    <tr>\n",
       "      <th>1514765040</th>\n",
       "      <td>1.048278</td>\n",
       "      <td>-1.878305e+00</td>\n",
       "      <td>-1.586419</td>\n",
       "      <td>-0.003509</td>\n",
       "      <td>-0.000004</td>\n",
       "      <td>-0.000019</td>\n",
       "      <td>-0.011799</td>\n",
       "      <td>-0.00004</td>\n",
       "      <td>-0.000177</td>\n",
       "      <td>-0.000519</td>\n",
       "      <td>-0.280319</td>\n",
       "    </tr>\n",
       "    <tr>\n",
       "      <th>1514765100</th>\n",
       "      <td>-2.932456</td>\n",
       "      <td>-4.716536e-03</td>\n",
       "      <td>-1.398939</td>\n",
       "      <td>-0.003509</td>\n",
       "      <td>-0.000004</td>\n",
       "      <td>-0.000019</td>\n",
       "      <td>-0.011799</td>\n",
       "      <td>-0.00004</td>\n",
       "      <td>-0.000177</td>\n",
       "      <td>0.147923</td>\n",
       "      <td>-0.259546</td>\n",
       "    </tr>\n",
       "  </tbody>\n",
       "</table>\n",
       "</div>"
      ],
      "text/plain": [
       "            log_returns_t_minus_1  log_volumes_t_minus_1  \\\n",
       "timestamp                                                  \n",
       "1514764860              -0.001062          -9.741894e-07   \n",
       "1514764920              -1.007810          -6.992360e-02   \n",
       "1514764980              -1.935252           2.302382e+00   \n",
       "1514765040               1.048278          -1.878305e+00   \n",
       "1514765100              -2.932456          -4.716536e-03   \n",
       "\n",
       "            log_counts_t_minus_1  log_returns_t_minus_10  \\\n",
       "timestamp                                                  \n",
       "1514764860             -0.000003               -0.003509   \n",
       "1514764920              0.457159               -0.003509   \n",
       "1514764980              2.528186               -0.003509   \n",
       "1514765040             -1.586419               -0.003509   \n",
       "1514765100             -1.398939               -0.003509   \n",
       "\n",
       "            log_volumes_t_minus_10  log_counts_t_minus_10  \\\n",
       "timestamp                                                   \n",
       "1514764860               -0.000004              -0.000019   \n",
       "1514764920               -0.000004              -0.000019   \n",
       "1514764980               -0.000004              -0.000019   \n",
       "1514765040               -0.000004              -0.000019   \n",
       "1514765100               -0.000004              -0.000019   \n",
       "\n",
       "            log_returns_t_minus_100  log_volumes_t_minus_100  \\\n",
       "timestamp                                                      \n",
       "1514764860                -0.011799                 -0.00004   \n",
       "1514764920                -0.011799                 -0.00004   \n",
       "1514764980                -0.011799                 -0.00004   \n",
       "1514765040                -0.011799                 -0.00004   \n",
       "1514765100                -0.011799                 -0.00004   \n",
       "\n",
       "            log_counts_t_minus_100   _Spread  _Max_spread  \n",
       "timestamp                                                  \n",
       "1514764860               -0.000177 -0.000519    -0.333829  \n",
       "1514764920               -0.000177  0.050954    -0.308071  \n",
       "1514764980               -0.000177  0.071543    -0.258881  \n",
       "1514765040               -0.000177 -0.000519    -0.280319  \n",
       "1514765100               -0.000177  0.147923    -0.259546  "
      ]
     },
     "execution_count": 92,
     "metadata": {},
     "output_type": "execute_result"
    }
   ],
   "source": [
    "X_train.head()"
   ]
  },
  {
   "cell_type": "code",
   "execution_count": 93,
   "id": "f82bc09a",
   "metadata": {},
   "outputs": [],
   "source": [
    "# baseline model : linear regression"
   ]
  },
  {
   "cell_type": "code",
   "execution_count": 94,
   "id": "891feebc",
   "metadata": {},
   "outputs": [
    {
     "data": {
      "text/plain": [
       "LinearRegression()"
      ]
     },
     "execution_count": 94,
     "metadata": {},
     "output_type": "execute_result"
    }
   ],
   "source": [
    "model = LinearRegression()\n",
    "model.fit(X_train, y_train)"
   ]
  },
  {
   "cell_type": "code",
   "execution_count": 95,
   "id": "8cb91c73",
   "metadata": {},
   "outputs": [
    {
     "data": {
      "text/plain": [
       "-0.1760862707512274"
      ]
     },
     "execution_count": 95,
     "metadata": {},
     "output_type": "execute_result"
    }
   ],
   "source": [
    "y_predict = model.predict(X_test)\n",
    "r2_baseline = r2_score(y_test, y_predict)\n",
    "r2_baseline"
   ]
  },
  {
   "cell_type": "code",
   "execution_count": 96,
   "id": "2ec1e74d",
   "metadata": {},
   "outputs": [
    {
     "data": {
      "text/plain": [
       "<AxesSubplot:xlabel='timestamp', ylabel='Target'>"
      ]
     },
     "execution_count": 96,
     "metadata": {},
     "output_type": "execute_result"
    },
    {
     "data": {
      "image/png": "[encoded data removed]",
      "text/plain": [
       "<Figure size 432x288 with 1 Axes>"
      ]
     },
     "metadata": {
      "needs_background": "light"
     },
     "output_type": "display_data"
    }
   ],
   "source": [
    "sns.scatterplot(x=y_test.iloc[:1000].index, y=y_test.iloc[:1000])\n",
    "sns.scatterplot(x=y_test.iloc[:1000].index, y=y_predict[:1000])"
   ]
  },
  {
   "cell_type": "code",
   "execution_count": null,
   "id": "cd3d6f53",
   "metadata": {},
   "outputs": [],
   "source": []
  },
  {
   "cell_type": "code",
   "execution_count": null,
   "id": "7efb482e",
   "metadata": {},
   "outputs": [],
   "source": []
  }
 ],
 "metadata": {
  "kernelspec": {
   "display_name": "Python 3 (ipykernel)",
   "language": "python",
   "name": "python3"
  },
  "language_info": {
   "codemirror_mode": {
    "name": "ipython",
    "version": 3
   },
   "file_extension": ".py",
   "mimetype": "text/x-python",
   "name": "python",
   "nbconvert_exporter": "python",
   "pygments_lexer": "ipython3",
   "version": "3.9.9"
  }
 },
 "nbformat": 4,
 "nbformat_minor": 5
}
